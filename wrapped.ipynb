{
 "cells": [
  {
   "cell_type": "markdown",
   "metadata": {},
   "source": [
    "- n of unique songs\n",
    "- first song and first discovered artist\n",
    "- minutes\n",
    "- n1 artist w/amount of hours\n",
    "- top artists, top songs, top genres\n",
    "- top 100\n",
    "- subgenre\n",
    "- oldest song"
   ]
  },
  {
   "cell_type": "code",
   "execution_count": 3,
   "metadata": {},
   "outputs": [],
   "source": [
    "import pandas as pd\n",
    "import numpy as np\n",
    "import pylast\n",
    "import spotipy\n",
    "from spotipy.oauth2 import SpotifyClientCredentials\n",
    "import spotipy.util as util\n",
    "import time\n",
    "import datetime\n",
    "import re\n",
    "from IPython.display import clear_output\n"
   ]
  },
  {
   "cell_type": "code",
   "execution_count": 11,
   "metadata": {},
   "outputs": [],
   "source": [
    "from config import LASTFM_API_KEY, LASTFM_SHARED_SECRET, LASTFM_PASSWORD"
   ]
  },
  {
   "cell_type": "code",
   "execution_count": 12,
   "metadata": {},
   "outputs": [],
   "source": [
    "# In order to perform a write operation you need to authenticate yourself\n",
    "username = \"alexing10\"\n",
    "password_hash = pylast.md5(LASTFM_PASSWORD)\n",
    "\n",
    "network = pylast.LastFMNetwork(api_key=LASTFM_API_KEY, api_secret=LASTFM_SHARED_SECRET,\n",
    "                               username=username, password_hash=password_hash)\n",
    "user = network.get_authenticated_user()"
   ]
  },
  {
   "cell_type": "code",
   "execution_count": 4,
   "metadata": {},
   "outputs": [],
   "source": [
    "d = datetime.date(2018,1,1)\n",
    "\n",
    "unixtime = time.mktime(d.timetuple())\n",
    "tracks = user.get_recent_tracks(limit=None, time_from=unixtime)"
   ]
  },
  {
   "cell_type": "code",
   "execution_count": 5,
   "metadata": {},
   "outputs": [
    {
     "name": "stdout",
     "output_type": "stream",
     "text": [
      "<class 'pylast.PlayedTrack'> 14812\n"
     ]
    }
   ],
   "source": [
    "first_elem = tracks[0]\n",
    "print(type(first_elem), len(tracks))"
   ]
  },
  {
   "cell_type": "code",
   "execution_count": 6,
   "metadata": {},
   "outputs": [
    {
     "name": "stdout",
     "output_type": "stream",
     "text": [
      ".artist:  Marilina Bertoldi\n",
      ".get_album():  Prender un Fuego\n",
      ".get_duration():  188000\n",
      ".get_listener_count():  227\n",
      ".get_mbid():  None\n",
      ".get_playcount():  1351\n",
      ".get_url():  https://www.last.fm/music/marilina%2bbertoldi/_/nunca\n",
      ".info:  {}\n",
      ".title:  Nunca\n"
     ]
    }
   ],
   "source": [
    "def print_track(a_track):\n",
    "    print(\".artist: \", a_track.track.artist)\n",
    "    album = str(a_track.track.get_album())\n",
    "    if not album:\n",
    "        album = ''\n",
    "    print(\".get_album(): \", re.sub(r\"^[^-]*- \", \"\", album))\n",
    "    print(\".get_duration(): \",a_track.track.get_duration())\n",
    "    print(\".get_listener_count(): \",a_track.track.get_listener_count())\n",
    "    print(\".get_mbid(): \",a_track.track.get_mbid())\n",
    "    print(\".get_playcount(): \",a_track.track.get_playcount())\n",
    "    print(\".get_url(): \",a_track.track.get_url())\n",
    "    print(\".info: \",a_track.track.info)\n",
    "    print(\".title: \",a_track.track.title)\n",
    "\n",
    "print_track(first_elem)"
   ]
  },
  {
   "cell_type": "code",
   "execution_count": 7,
   "metadata": {},
   "outputs": [
    {
     "name": "stdout",
     "output_type": "stream",
     "text": [
      ".artist:  Riff\n",
      ".get_album():  None\n",
      ".get_duration():  0\n",
      ".get_listener_count():  31\n",
      ".get_mbid():  None\n",
      ".get_playcount():  46\n",
      ".get_url():  https://www.last.fm/music/riff/_/sube%2ba%2bmi%2bvoiture%2b-%2ben%2bvivo\n",
      ".info:  {}\n",
      ".title:  Sube a Mi Voiture - En Vivo\n"
     ]
    }
   ],
   "source": [
    "print_track(tracks[568])"
   ]
  },
  {
   "cell_type": "code",
   "execution_count": 17,
   "metadata": {},
   "outputs": [],
   "source": [
    "def get_data(a_track):\n",
    "    data = []\n",
    "    data.append(str(a_track.track.artist))\n",
    "    data.append(a_track.track.title)\n",
    "    try:\n",
    "        album = str(a_track.track.get_album())\n",
    "        if not album:\n",
    "            album = ''\n",
    "    except:\n",
    "        album = ''\n",
    "    data.append(re.sub(r\"^[^-]*- \", \"\", album))\n",
    "    try:\n",
    "        duration = a_track.track.get_duration()\n",
    "    except:\n",
    "        duration = ''\n",
    "    data.append(duration)\n",
    "    try:\n",
    "        listener_count = a_track.track.get_listener_count()\n",
    "    except:\n",
    "        listener_count = ''\n",
    "    data.append(listener_count)\n",
    "    try:\n",
    "        mbid = a_track.track.get_mbid()\n",
    "    except:\n",
    "        mbid = ''\n",
    "    data.append(mbid)\n",
    "    try:\n",
    "        playcount = a_track.track.get_playcount()\n",
    "    except:\n",
    "        playcount = ''\n",
    "    data.append(playcount)\n",
    "    try:\n",
    "        url = a_track.track.get_url()\n",
    "    except:\n",
    "        url = ''\n",
    "    data.append(url)\n",
    "    data.append(a_track.track.info)\n",
    "    data.append(a_track.playback_date)\n",
    "    data.append(a_track.timestamp)\n",
    "    return data"
   ]
  },
  {
   "cell_type": "code",
   "execution_count": 18,
   "metadata": {},
   "outputs": [
    {
     "name": "stdout",
     "output_type": "stream",
     "text": [
      "Got data from 14812/14812 tracks\n"
     ]
    }
   ],
   "source": [
    "data = {}\n",
    "amount_of_tracks = len(tracks)\n",
    "for i, a_track in enumerate(tracks):\n",
    "    data[i] = get_data(a_track)\n",
    "    print(\"Got data from %d/%d tracks\" % (i+1, amount_of_tracks))\n",
    "    clear_output(wait=True)"
   ]
  },
  {
   "cell_type": "code",
   "execution_count": 19,
   "metadata": {},
   "outputs": [
    {
     "data": {
      "text/html": [
       "<div>\n",
       "<style>\n",
       "    .dataframe thead tr:only-child th {\n",
       "        text-align: right;\n",
       "    }\n",
       "\n",
       "    .dataframe thead th {\n",
       "        text-align: left;\n",
       "    }\n",
       "\n",
       "    .dataframe tbody tr th {\n",
       "        vertical-align: top;\n",
       "    }\n",
       "</style>\n",
       "<table border=\"1\" class=\"dataframe\">\n",
       "  <thead>\n",
       "    <tr style=\"text-align: right;\">\n",
       "      <th></th>\n",
       "      <th>artist</th>\n",
       "      <th>title</th>\n",
       "      <th>album</th>\n",
       "      <th>duration</th>\n",
       "      <th>listener_count</th>\n",
       "      <th>mbid</th>\n",
       "      <th>playcount</th>\n",
       "      <th>url</th>\n",
       "      <th>info</th>\n",
       "      <th>date</th>\n",
       "      <th>timestamp</th>\n",
       "    </tr>\n",
       "  </thead>\n",
       "  <tbody>\n",
       "    <tr>\n",
       "      <th>0</th>\n",
       "      <td>Marilina Bertoldi</td>\n",
       "      <td>Nunca</td>\n",
       "      <td>Prender un Fuego</td>\n",
       "      <td>188000</td>\n",
       "      <td>228</td>\n",
       "      <td>None</td>\n",
       "      <td>1366</td>\n",
       "      <td>https://www.last.fm/music/marilina%2bbertoldi/...</td>\n",
       "      <td>{}</td>\n",
       "      <td>08 Dec 2018, 19:43</td>\n",
       "      <td>1544298210</td>\n",
       "    </tr>\n",
       "    <tr>\n",
       "      <th>1</th>\n",
       "      <td>Marilina Bertoldi</td>\n",
       "      <td>La Casa de A</td>\n",
       "      <td>None</td>\n",
       "      <td>0</td>\n",
       "      <td>243</td>\n",
       "      <td>None</td>\n",
       "      <td>1688</td>\n",
       "      <td>https://www.last.fm/music/marilina%2bbertoldi/...</td>\n",
       "      <td>{}</td>\n",
       "      <td>08 Dec 2018, 19:40</td>\n",
       "      <td>1544298014</td>\n",
       "    </tr>\n",
       "    <tr>\n",
       "      <th>2</th>\n",
       "      <td>Marilina Bertoldi</td>\n",
       "      <td>Fumar de día</td>\n",
       "      <td>Prender un Fuego</td>\n",
       "      <td>178000</td>\n",
       "      <td>350</td>\n",
       "      <td>None</td>\n",
       "      <td>2149</td>\n",
       "      <td>https://www.last.fm/music/marilina%2bbertoldi/...</td>\n",
       "      <td>{}</td>\n",
       "      <td>08 Dec 2018, 19:37</td>\n",
       "      <td>1544297834</td>\n",
       "    </tr>\n",
       "    <tr>\n",
       "      <th>3</th>\n",
       "      <td>Marilina Bertoldi</td>\n",
       "      <td>O No?</td>\n",
       "      <td>Prender un Fuego</td>\n",
       "      <td>181000</td>\n",
       "      <td>242</td>\n",
       "      <td>None</td>\n",
       "      <td>1343</td>\n",
       "      <td>https://www.last.fm/music/marilina%2bbertoldi/...</td>\n",
       "      <td>{}</td>\n",
       "      <td>08 Dec 2018, 19:34</td>\n",
       "      <td>1544297653</td>\n",
       "    </tr>\n",
       "    <tr>\n",
       "      <th>4</th>\n",
       "      <td>The 1975</td>\n",
       "      <td>Inside Your Mind</td>\n",
       "      <td>ネット上の人間関係についての簡単な調査 [Explicit]</td>\n",
       "      <td>230000</td>\n",
       "      <td>20179</td>\n",
       "      <td>None</td>\n",
       "      <td>63956</td>\n",
       "      <td>https://www.last.fm/music/the%2b1975/_/inside%...</td>\n",
       "      <td>{}</td>\n",
       "      <td>08 Dec 2018, 18:59</td>\n",
       "      <td>1544295551</td>\n",
       "    </tr>\n",
       "  </tbody>\n",
       "</table>\n",
       "</div>"
      ],
      "text/plain": [
       "              artist             title                           album  \\\n",
       "0  Marilina Bertoldi             Nunca                Prender un Fuego   \n",
       "1  Marilina Bertoldi      La Casa de A                            None   \n",
       "2  Marilina Bertoldi      Fumar de día                Prender un Fuego   \n",
       "3  Marilina Bertoldi             O No?                Prender un Fuego   \n",
       "4           The 1975  Inside Your Mind  ネット上の人間関係についての簡単な調査 [Explicit]   \n",
       "\n",
       "  duration listener_count  mbid playcount  \\\n",
       "0   188000            228  None      1366   \n",
       "1        0            243  None      1688   \n",
       "2   178000            350  None      2149   \n",
       "3   181000            242  None      1343   \n",
       "4   230000          20179  None     63956   \n",
       "\n",
       "                                                 url info                date  \\\n",
       "0  https://www.last.fm/music/marilina%2bbertoldi/...   {}  08 Dec 2018, 19:43   \n",
       "1  https://www.last.fm/music/marilina%2bbertoldi/...   {}  08 Dec 2018, 19:40   \n",
       "2  https://www.last.fm/music/marilina%2bbertoldi/...   {}  08 Dec 2018, 19:37   \n",
       "3  https://www.last.fm/music/marilina%2bbertoldi/...   {}  08 Dec 2018, 19:34   \n",
       "4  https://www.last.fm/music/the%2b1975/_/inside%...   {}  08 Dec 2018, 18:59   \n",
       "\n",
       "    timestamp  \n",
       "0  1544298210  \n",
       "1  1544298014  \n",
       "2  1544297834  \n",
       "3  1544297653  \n",
       "4  1544295551  "
      ]
     },
     "execution_count": 19,
     "metadata": {},
     "output_type": "execute_result"
    }
   ],
   "source": [
    "df = pd.DataFrame.from_dict(data, orient='index')\n",
    "df.columns=['artist', 'title', 'album', 'duration', 'listener_count', 'mbid', 'playcount', 'url', 'info', 'date', 'timestamp']\n",
    "df.head()"
   ]
  },
  {
   "cell_type": "code",
   "execution_count": 20,
   "metadata": {},
   "outputs": [],
   "source": [
    "df.to_csv(\"data/data.csv\")"
   ]
  },
  {
   "cell_type": "markdown",
   "metadata": {},
   "source": [
    "Repair"
   ]
  },
  {
   "cell_type": "code",
   "execution_count": 44,
   "metadata": {},
   "outputs": [],
   "source": [
    "df['track'] = None\n",
    "for i, a_track in enumerate(tracks):\n",
    "    if df.at[i, 'timestamp'] == a_track.timestamp:\n",
    "        df.at[i, 'track'] = a_track"
   ]
  },
  {
   "cell_type": "code",
   "execution_count": 47,
   "metadata": {},
   "outputs": [
    {
     "data": {
      "text/plain": [
       "0"
      ]
     },
     "execution_count": 47,
     "metadata": {},
     "output_type": "execute_result"
    }
   ],
   "source": [
    "df['track'].isnull().sum()"
   ]
  },
  {
   "cell_type": "code",
   "execution_count": 85,
   "metadata": {},
   "outputs": [
    {
     "name": "stdout",
     "output_type": "stream",
     "text": [
      "Amount of 'None' albums left: 2604\n",
      "Amount of 0 duration left: 2598\n",
      "Amount of '' listener_count left: 3\n",
      "Amount of '' playcount left: 3\n"
     ]
    }
   ],
   "source": [
    "amount_of_tracks = len(df)\n",
    "for i, row in df.iterrows():\n",
    "    try:\n",
    "        if row['album'] == 'None':\n",
    "            album = str(row['track'].track.get_album())\n",
    "            df.at[i, 'album'] = re.sub(r\"^[^-]*- \", \"\", album)\n",
    "        if row['duration'] == 0:\n",
    "            df.at[i, 'duration'] = row['track'].track.get_duration()\n",
    "        if row['listener_count'] == '':\n",
    "            df.at[i, 'listener_count'] = row['track'].track.get_listener_count()\n",
    "        if row['mbid'] == None:\n",
    "            df.at[i, 'mbid'] = row['track'].track.get_mbid()           \n",
    "        if row['playcount'] == '':\n",
    "            df.at[i, 'playcount'] = row['track'].track.get_playcount()           \n",
    "    except:\n",
    "        continue\n",
    "    print(\"Tried to repair data from %d/%d tracks\" % (i+1, amount_of_tracks))\n",
    "    clear_output(wait=True)\n",
    "print(\"Amount of 'None' albums left: %d\" % ((df.album == 'None').sum()))\n",
    "print(\"Amount of 0 duration left: %d\" % ((df.duration == 0).sum()))\n",
    "print(\"Amount of '' listener_count left: %d\" % ((df.listener_count == '').sum()))\n",
    "print(\"Amount of '' playcount left: %d\" % ((df.playcount == '').sum()))\n"
   ]
  },
  {
   "cell_type": "markdown",
   "metadata": {},
   "source": [
    "Didn't work. Maybe query spotify?"
   ]
  },
  {
   "cell_type": "markdown",
   "metadata": {},
   "source": [
    "Use first result of search"
   ]
  },
  {
   "cell_type": "code",
   "execution_count": 14,
   "metadata": {
    "scrolled": true
   },
   "outputs": [],
   "source": [
    "from config import SPOTIFY_CLIENT_ID, SPOTIFY_CLIENT_SECRET\n",
    "\n",
    "client_credentials_manager = SpotifyClientCredentials(client_id=SPOTIFY_CLIENT_ID,\n",
    "                                                      client_secret=SPOTIFY_CLIENT_SECRET)\n",
    "scope = 'user-top-read'\n",
    "token = util.prompt_for_user_token(username, scope, client_id=SPOTIFY_CLIENT_ID, client_secret=SPOTIFY_CLIENT_SECRET, redirect_uri=\"http://localhost:8888/\")\n",
    "sp = spotipy.Spotify(client_credentials_manager=client_credentials_manager, auth=token)\n"
   ]
  },
  {
   "cell_type": "code",
   "execution_count": 172,
   "metadata": {},
   "outputs": [
    {
     "name": "stdout",
     "output_type": "stream",
     "text": [
      "Amount of 'None' albums left: 40\n",
      "Amount of 0 duration left: 33\n",
      "Problems:\n",
      "Detected error in index: 7500 with Gilad Hekselman - Suite For Sweets\n",
      "Detected error in index: 8124 with Dirty Projectors - (I Wanna) Feel It All (feat. Dear Nora)\n",
      "Detected error in index: 8125 with Dirty Projectors - You're The One (feat. Robin Pecknold & Rostam)\n",
      "Detected error in index: 8129 with Dirty Projectors - Zombie Conqueror (feat. Empress Of)\n",
      "Detected error in index: 8130 with Dirty Projectors - I Feel Energy (feat. Amber Mark)\n",
      "Detected error in index: 8133 with Dirty Projectors - Right Now (feat. Syd)\n",
      "Detected error in index: 8166 with Dirty Projectors - Right Now (feat. Syd)\n",
      "Detected error in index: 8756 with Seu Jorge - O Astronauta De Mármore - Starman\n",
      "Detected error in index: 9207 with John Lennon - Medley: Rip It Up/Ready Teddy - 2010 - Remaster\n",
      "Detected error in index: 9373 with Paul McCartney - Ain't No Sunshine - Live On MTV Unplugged\n",
      "Detected error in index: 9377 with Paul McCartney - Hi-Heel Sneakers - Live On MTV Unplugged\n",
      "Detected error in index: 9378 with Paul McCartney - She's a Woman - Live On MTV Unplugged\n",
      "Detected error in index: 9381 with Paul McCartney - San Francisco Bay Blues - Live On MTV Unplugged\n",
      "Detected error in index: 9383 with Paul McCartney - Blue Moon of Kentucky - Live On MTV Unplugged\n",
      "Detected error in index: 9385 with Paul McCartney - I Lost My Little Girl - Live On MTV Unplugged\n",
      "Detected error in index: 9386 with Paul McCartney - Be-Bop-A-Lula - Live On MTV Unplugged\n",
      "Detected error in index: 9424 with Paul McCartney - Venus And Mars / Rock Show / Jet - 2013 Remaster\n",
      "Detected error in index: 10187 with Static & Ben El - Otw\n",
      "Detected error in index: 10396 with Gabriel Garzón-Montano - Bombo Fabrica\n",
      "Detected error in index: 10583 with Leyli - Nishbati Lachzor Elecha\n",
      "Detected error in index: 10584 with Leyli - Holchim Al Ze\n",
      "Detected error in index: 10585 with Leyli - Hi\n",
      "Detected error in index: 10586 with Leyli - Ze Kvar Nikar\n",
      "Detected error in index: 10587 with Leyli - Rak Shetikach Oti Ita\n",
      "Detected error in index: 10588 with Leyli - Naki Umeluchlach\n",
      "Detected error in index: 10589 with Leyli - Tzafona\n",
      "Detected error in index: 10590 with Leyli - Sham Me'ever Lapsanter\n",
      "Detected error in index: 10591 with Leyli - BeYamim\n",
      "Detected error in index: 11346 with Gilad Hekselman - Suite For Sweets\n",
      "Detected error in index: 11460 with Arutz Hakibud - קדאווה (ביט של מנטוס)\n",
      "Detected error in index: 11461 with Arutz Hakibud - Or Barvaz\n",
      "Detected error in index: 12072 with Gilad Hekselman - Suite For Sweets\n",
      "Detected error in index: 12088 with Gilad Hekselman - When Will The Blues Leave\n",
      "Detected error in index: 12089 with Gilad Hekselman - Suite For Sweets\n",
      "Detected error in index: 12092 with Gilad Hekselman - Hello Who Is It?\n",
      "Detected error in index: 12236 with Omer Adam - Shnei Meshugaeim\n",
      "Detected error in index: 12237 with Static & Ben El - הכל לטובה\n",
      "Detected error in index: 12455 with Johann Sebastian Bach - Orchestral Suite No. 3 in D Major, BWV 1068: III. Air, \"On the G String\" (Arr. for Piano)\n",
      "Detected error in index: 12540 with Erik Satie - Satie: 3 Gymnopédies: II. Lent et triste in C Major\n",
      "Detected error in index: 12819 with Static - הכל לטובה\n",
      "Detected error in index: 13120 with Akira Yamaoka - Theme of Laura-Reprise\n"
     ]
    }
   ],
   "source": [
    "errors = []\n",
    "amount_of_tracks = len(df)\n",
    "for i, row in df.iterrows():\n",
    "    if row['album'] == 'None' or row['duration'] == 0:\n",
    "        try:\n",
    "            results = sp.search(q=u' '.join([row['artist'], row['title']]), type='track', market='AR')\n",
    "        except:\n",
    "            continue\n",
    "        if len(results['tracks']['items']) == 0:\n",
    "            if row['artist'] == 'Sandman Project' and row['title'] == 'Circies':\n",
    "                row['title'] = df.at[i, 'title'] = 'Circles'\n",
    "                \n",
    "            query = re.sub(r'\\s-.*$','',u' '.join([row['artist'], row['title']]))\n",
    "            results = sp.search(q=query, type='track', market='AR')\n",
    "            print(results)\n",
    "            print(' '.join([row['artist'], row['title']]))\n",
    "        try:\n",
    "            if row['album'] == 'None':\n",
    "                df.at[i, 'album'] = results['tracks']['items'][0]['album']['name']\n",
    "            if row['duration'] == 0:\n",
    "                df.at[i, 'duration'] = results['tracks']['items'][0]['duration_ms']      \n",
    "        except:\n",
    "            errors.append((i, row))\n",
    "            continue\n",
    "            \n",
    "    print(\"Tried to repair data from %d/%d tracks\" % (i+1, amount_of_tracks))\n",
    "    clear_output(wait=True)\n",
    "print(\"Amount of 'None' albums left: %d\" % ((df.album == 'None').sum()))\n",
    "print(\"Amount of 0 duration left: %d\" % ((df.duration == 0).sum()))\n",
    "print(\"Problems:\")\n",
    "for an_error in errors:\n",
    "    print(\"Detected error in index: %d with %s - %s\" % (an_error[0], an_error[1]['artist'], an_error[1]['title']))"
   ]
  },
  {
   "cell_type": "markdown",
   "metadata": {},
   "source": [
    "Manually fixing at last"
   ]
  },
  {
   "cell_type": "code",
   "execution_count": 185,
   "metadata": {},
   "outputs": [],
   "source": [
    "df.at[7500, 'album'] = 'SplitLife'               # with Gilad Hekselman - Suite For Sweets\n",
    "df.at[8124, 'album'] = 'Lamp Lit Prose'             # with Dirty Projectors - (I Wanna) Feel It All (feat. Dear Nora)\n",
    "df.at[8125, 'album'] = 'Lamp Lit Prose'             #  with Dirty Projectors - You're The One (feat. Robin Pecknold & Rostam)\n",
    "df.at[8129, 'album'] = 'Lamp Lit Prose'             #  with Dirty Projectors - Zombie Conqueror (feat. Empress Of)\n",
    "df.at[8130, 'album'] = 'Lamp Lit Prose'             #  with Dirty Projectors - I Feel Energy (feat. Amber Mark)\n",
    "df.at[8133, 'album'] = 'Lamp Lit Prose'             #  with Dirty Projectors - Right Now (feat. Syd)\n",
    "df.at[8166, 'album'] = 'Lamp Lit Prose'             #  with Dirty Projectors - Right Now (feat. Syd)\n",
    "df.at[8756, 'album'] = 'The Life Aquatic Studio Sessions'             # with Seu Jorge - O Astronauta De Mármore - Starman\n",
    "df.at[9207, 'album'] = \"Rock 'N' Roll\"            #  with John Lennon - Medley: Rip It Up/Ready Teddy - 2010 - Remaster\n",
    "df.at[9373, 'album'] = 'Unplugged (The Official Bootleg)'       #        with Paul McCartney - Ain't No Sunshine - Live On MTV Unplugged\n",
    "df.at[9377, 'album'] = 'Unplugged (The Official Bootleg)'       #        with Paul McCartney - Hi-Heel Sneakers - Live On MTV Unplugged\n",
    "df.at[9378, 'album'] = 'Unplugged (The Official Bootleg)'       #        with Paul McCartney - She's a Woman - Live On MTV Unplugged\n",
    "df.at[9381, 'album'] = 'Unplugged (The Official Bootleg)'       #       with Paul McCartney - San Francisco Bay Blues - Live On MTV Unplugged\n",
    "df.at[9383, 'album'] = 'Unplugged (The Official Bootleg)'       #       with Paul McCartney - Blue Moon of Kentucky - Live On MTV Unplugged\n",
    "df.at[9385, 'album'] = 'Unplugged (The Official Bootleg)'       #        with Paul McCartney - I Lost My Little Girl - Live On MTV Unplugged\n",
    "df.at[9386, 'album'] = 'Unplugged (The Official Bootleg)'       #        with Paul McCartney - Be-Bop-A-Lula - Live On MTV Unplugged\n",
    "df.at[9424, 'album'] = 'Wings Over America'      #         with Paul McCartney - Venus And Mars / Rock Show / Jet - 2013 Remaster\n",
    "df.at[10187, 'album'] = ''       #       with Static & Ben El - Otw\n",
    "df.at[10396, 'album'] = 'Jardín'        #      with Gabriel Garzón-Montano - Bombo Fabrica\n",
    "df.at[10583, 'album'] = 'Leyli'         #     with Leyli - Nishbati Lachzor Elecha\n",
    "df.at[10584, 'album'] = 'Leyli'         #     with Leyli - Holchim Al Ze\n",
    "df.at[10585, 'album'] = 'Leyli'         #     with Leyli - Hi\n",
    "df.at[10586, 'album'] = 'Leyli'         #     with Leyli - Ze Kvar Nikar\n",
    "df.at[10587, 'album'] = 'Leyli'         #     with Leyli - Rak Shetikach Oti Ita\n",
    "df.at[10588, 'album'] = 'Leyli'         #    with Leyli - Naki Umeluchlach\n",
    "df.at[10589, 'album'] = 'Leyli'         #     with Leyli - Tzafona\n",
    "df.at[10590, 'album'] = 'Leyli'         #     with Leyli - Sham Me'ever Lapsanter\n",
    "df.at[10591, 'album'] = 'Leyli'         #    with Leyli - BeYamim\n",
    "df.at[11346, 'album'] = 'SplitLife'     #         with Gilad Hekselman - Suite For Sweets\n",
    "df.at[12072, 'album'] = 'SplitLife'     #         with Gilad Hekselman - Suite For Sweets\n",
    "df.at[12088, 'album'] = 'SplitLife'     #         with Gilad Hekselman - When Will The Blues Leave\n",
    "df.at[12089, 'album'] = 'SplitLife'     #        with Gilad Hekselman - Suite For Sweets\n",
    "df.at[12092, 'album'] = 'SplitLife'     #        with Gilad Hekselman - Hello Who Is It?\n",
    "\n",
    "mean = int(np.round(np.mean(df[df['duration'] != '']['duration'])))\n",
    "for i in [x[0] for x in errors]:\n",
    "    df.at[i, 'duration'] = mean"
   ]
  },
  {
   "cell_type": "code",
   "execution_count": 186,
   "metadata": {},
   "outputs": [
    {
     "name": "stdout",
     "output_type": "stream",
     "text": [
      "Amount of 'None' albums left: 12\n",
      "Amount of 0 duration left: 5\n"
     ]
    }
   ],
   "source": [
    "print(\"Amount of 'None' albums left: %d\" % ((df.album == 'None').sum()))\n",
    "print(\"Amount of 0 duration left: %d\" % ((df.duration == 0).sum()))"
   ]
  },
  {
   "cell_type": "code",
   "execution_count": 202,
   "metadata": {},
   "outputs": [
    {
     "data": {
      "text/plain": [
       "Int64Index([ 9020, 11197, 11460, 11461, 11838, 11866, 12236, 12237, 12455,\n",
       "            12540, 12819, 13641],\n",
       "           dtype='int64')"
      ]
     },
     "execution_count": 202,
     "metadata": {},
     "output_type": "execute_result"
    }
   ],
   "source": [
    "df[df.album == 'None'].index"
   ]
  },
  {
   "cell_type": "code",
   "execution_count": 203,
   "metadata": {},
   "outputs": [],
   "source": [
    "df.at[9020, 'album'] = '22, A Million'\n",
    "df.at[11197, 'album'] = 'Band On The Run'\n",
    "df.at[11460, 'album'] = '' \n",
    "df.at[11461, 'album'] =  ''\n",
    "df.at[11838, 'album'] =  'Perdido Dia Gris'\n",
    "df.at[11866, 'album'] = \"Outlandos D'Amour\"\n",
    "df.at[12236, 'album'] = '' \n",
    "df.at[12237, 'album'] = '' \n",
    "df.at[12455, 'album'] = ''\n",
    "df.at[12540, 'album'] = '' \n",
    "df.at[12819, 'album'] = ''\n",
    "df.at[13641, 'album'] = 'Sueño Stereo'\n",
    "for i in df[df.duration == 0].index:\n",
    "    df.at[i, 'duration'] = mean"
   ]
  },
  {
   "cell_type": "code",
   "execution_count": 314,
   "metadata": {},
   "outputs": [],
   "source": [
    "for i in df[df.duration == ''].index:\n",
    "    df.at[i, 'duration'] = mean"
   ]
  },
  {
   "cell_type": "code",
   "execution_count": 204,
   "metadata": {},
   "outputs": [
    {
     "name": "stdout",
     "output_type": "stream",
     "text": [
      "Amount of 'None' albums left: 0\n",
      "Amount of 0 duration left: 0\n"
     ]
    }
   ],
   "source": [
    "print(\"Amount of 'None' albums left: %d\" % ((df.album == 'None').sum()))\n",
    "print(\"Amount of 0 duration left: %d\" % ((df.duration == 0).sum()))"
   ]
  },
  {
   "cell_type": "markdown",
   "metadata": {},
   "source": [
    "### FINALLY"
   ]
  },
  {
   "cell_type": "code",
   "execution_count": 205,
   "metadata": {},
   "outputs": [
    {
     "data": {
      "text/html": [
       "<div>\n",
       "<style>\n",
       "    .dataframe thead tr:only-child th {\n",
       "        text-align: right;\n",
       "    }\n",
       "\n",
       "    .dataframe thead th {\n",
       "        text-align: left;\n",
       "    }\n",
       "\n",
       "    .dataframe tbody tr th {\n",
       "        vertical-align: top;\n",
       "    }\n",
       "</style>\n",
       "<table border=\"1\" class=\"dataframe\">\n",
       "  <thead>\n",
       "    <tr style=\"text-align: right;\">\n",
       "      <th></th>\n",
       "      <th>artist</th>\n",
       "      <th>title</th>\n",
       "      <th>album</th>\n",
       "      <th>duration</th>\n",
       "      <th>listener_count</th>\n",
       "      <th>mbid</th>\n",
       "      <th>playcount</th>\n",
       "      <th>url</th>\n",
       "      <th>info</th>\n",
       "      <th>date</th>\n",
       "      <th>timestamp</th>\n",
       "      <th>track</th>\n",
       "    </tr>\n",
       "  </thead>\n",
       "  <tbody>\n",
       "    <tr>\n",
       "      <th>0</th>\n",
       "      <td>Marilina Bertoldi</td>\n",
       "      <td>Nunca</td>\n",
       "      <td>Prender un Fuego</td>\n",
       "      <td>188000</td>\n",
       "      <td>228</td>\n",
       "      <td>None</td>\n",
       "      <td>1366</td>\n",
       "      <td>https://www.last.fm/music/marilina%2bbertoldi/...</td>\n",
       "      <td>{}</td>\n",
       "      <td>08 Dec 2018, 19:43</td>\n",
       "      <td>1544298210</td>\n",
       "      <td>(Marilina Bertoldi - Nunca, Prender un Fuego, ...</td>\n",
       "    </tr>\n",
       "    <tr>\n",
       "      <th>1</th>\n",
       "      <td>Marilina Bertoldi</td>\n",
       "      <td>La Casa de A</td>\n",
       "      <td>Prender un Fuego</td>\n",
       "      <td>196000</td>\n",
       "      <td>243</td>\n",
       "      <td>None</td>\n",
       "      <td>1688</td>\n",
       "      <td>https://www.last.fm/music/marilina%2bbertoldi/...</td>\n",
       "      <td>{}</td>\n",
       "      <td>08 Dec 2018, 19:40</td>\n",
       "      <td>1544298014</td>\n",
       "      <td>(Marilina Bertoldi - La Casa de A, Prender un ...</td>\n",
       "    </tr>\n",
       "    <tr>\n",
       "      <th>2</th>\n",
       "      <td>Marilina Bertoldi</td>\n",
       "      <td>Fumar de día</td>\n",
       "      <td>Prender un Fuego</td>\n",
       "      <td>178000</td>\n",
       "      <td>350</td>\n",
       "      <td>None</td>\n",
       "      <td>2149</td>\n",
       "      <td>https://www.last.fm/music/marilina%2bbertoldi/...</td>\n",
       "      <td>{}</td>\n",
       "      <td>08 Dec 2018, 19:37</td>\n",
       "      <td>1544297834</td>\n",
       "      <td>(Marilina Bertoldi - Fumar de día, Prender un ...</td>\n",
       "    </tr>\n",
       "    <tr>\n",
       "      <th>3</th>\n",
       "      <td>Marilina Bertoldi</td>\n",
       "      <td>O No?</td>\n",
       "      <td>Prender un Fuego</td>\n",
       "      <td>181000</td>\n",
       "      <td>242</td>\n",
       "      <td>None</td>\n",
       "      <td>1343</td>\n",
       "      <td>https://www.last.fm/music/marilina%2bbertoldi/...</td>\n",
       "      <td>{}</td>\n",
       "      <td>08 Dec 2018, 19:34</td>\n",
       "      <td>1544297653</td>\n",
       "      <td>(Marilina Bertoldi - O No?, Prender un Fuego, ...</td>\n",
       "    </tr>\n",
       "    <tr>\n",
       "      <th>4</th>\n",
       "      <td>The 1975</td>\n",
       "      <td>Inside Your Mind</td>\n",
       "      <td>ネット上の人間関係についての簡単な調査 [Explicit]</td>\n",
       "      <td>230000</td>\n",
       "      <td>20179</td>\n",
       "      <td>None</td>\n",
       "      <td>63956</td>\n",
       "      <td>https://www.last.fm/music/the%2b1975/_/inside%...</td>\n",
       "      <td>{}</td>\n",
       "      <td>08 Dec 2018, 18:59</td>\n",
       "      <td>1544295551</td>\n",
       "      <td>(The 1975 - Inside Your Mind, A Brief Inquiry ...</td>\n",
       "    </tr>\n",
       "  </tbody>\n",
       "</table>\n",
       "</div>"
      ],
      "text/plain": [
       "              artist             title                           album  \\\n",
       "0  Marilina Bertoldi             Nunca                Prender un Fuego   \n",
       "1  Marilina Bertoldi      La Casa de A                Prender un Fuego   \n",
       "2  Marilina Bertoldi      Fumar de día                Prender un Fuego   \n",
       "3  Marilina Bertoldi             O No?                Prender un Fuego   \n",
       "4           The 1975  Inside Your Mind  ネット上の人間関係についての簡単な調査 [Explicit]   \n",
       "\n",
       "  duration listener_count  mbid playcount  \\\n",
       "0   188000            228  None      1366   \n",
       "1   196000            243  None      1688   \n",
       "2   178000            350  None      2149   \n",
       "3   181000            242  None      1343   \n",
       "4   230000          20179  None     63956   \n",
       "\n",
       "                                                 url info                date  \\\n",
       "0  https://www.last.fm/music/marilina%2bbertoldi/...   {}  08 Dec 2018, 19:43   \n",
       "1  https://www.last.fm/music/marilina%2bbertoldi/...   {}  08 Dec 2018, 19:40   \n",
       "2  https://www.last.fm/music/marilina%2bbertoldi/...   {}  08 Dec 2018, 19:37   \n",
       "3  https://www.last.fm/music/marilina%2bbertoldi/...   {}  08 Dec 2018, 19:34   \n",
       "4  https://www.last.fm/music/the%2b1975/_/inside%...   {}  08 Dec 2018, 18:59   \n",
       "\n",
       "    timestamp                                              track  \n",
       "0  1544298210  (Marilina Bertoldi - Nunca, Prender un Fuego, ...  \n",
       "1  1544298014  (Marilina Bertoldi - La Casa de A, Prender un ...  \n",
       "2  1544297834  (Marilina Bertoldi - Fumar de día, Prender un ...  \n",
       "3  1544297653  (Marilina Bertoldi - O No?, Prender un Fuego, ...  \n",
       "4  1544295551  (The 1975 - Inside Your Mind, A Brief Inquiry ...  "
      ]
     },
     "execution_count": 205,
     "metadata": {},
     "output_type": "execute_result"
    }
   ],
   "source": [
    "df.head()"
   ]
  },
  {
   "cell_type": "code",
   "execution_count": 348,
   "metadata": {},
   "outputs": [],
   "source": [
    "# df.to_csv(\"data/data.csv\")"
   ]
  },
  {
   "cell_type": "code",
   "execution_count": 6,
   "metadata": {},
   "outputs": [],
   "source": [
    "# df = pd.read_csv(\"data/data.csv\").drop(\"Unnamed: 0\", axis=1)\n"
   ]
  },
  {
   "cell_type": "markdown",
   "metadata": {},
   "source": [
    "## Let's start the analysis"
   ]
  },
  {
   "cell_type": "markdown",
   "metadata": {},
   "source": [
    "### 1) \"Este año, escuchaste 8.486 canciones diferentes en Spotify.\" <font color='red'>FALSE</font>"
   ]
  },
  {
   "cell_type": "code",
   "execution_count": 7,
   "metadata": {},
   "outputs": [
    {
     "data": {
      "text/plain": [
       "6693"
      ]
     },
     "execution_count": 7,
     "metadata": {},
     "output_type": "execute_result"
    }
   ],
   "source": [
    "unique_songs = df.drop_duplicates(subset=['artist', 'title', 'album']).shape[0]\n",
    "unique_songs"
   ]
  },
  {
   "cell_type": "code",
   "execution_count": 8,
   "metadata": {},
   "outputs": [
    {
     "name": "stdout",
     "output_type": "stream",
     "text": [
      "There's a difference of 1793 in the analysis\n"
     ]
    }
   ],
   "source": [
    "print(\"There's a difference of %d in the analysis\" % (8486 - unique_songs))"
   ]
  },
  {
   "cell_type": "markdown",
   "metadata": {},
   "source": [
    "### 2) \"You started 2018 by listening to Life Wasted - Brendan O' Brien Mix by Pearl Jam and the first artist you discovered was Faces.\" <font color='green'>TRUE</font> / <font color='red'>FALSE</font>"
   ]
  },
  {
   "cell_type": "code",
   "execution_count": 9,
   "metadata": {},
   "outputs": [
    {
     "data": {
      "text/plain": [
       "artist                                                    Pearl Jam\n",
       "title                             Life Wasted - Brendan O'Brien Mix\n",
       "album                                          Pearl Jam (2017 Mix)\n",
       "duration                                                     232186\n",
       "listener_count                                                  989\n",
       "mbid                                                            NaN\n",
       "playcount                                                      1690\n",
       "url               https://www.last.fm/music/pearl%2bjam/_/life%2...\n",
       "info                                                             {}\n",
       "date                                             01 Jan 2018, 11:06\n",
       "timestamp                                                1514804801\n",
       "track             PlayedTrack(track=pylast.Track('Pearl Jam', \"L...\n",
       "Name: 14811, dtype: object"
      ]
     },
     "execution_count": 9,
     "metadata": {},
     "output_type": "execute_result"
    }
   ],
   "source": [
    "df.loc[df['timestamp'].idxmin()]"
   ]
  },
  {
   "cell_type": "markdown",
   "metadata": {},
   "source": [
    "#### __Indeed the first song is Life Wasted__"
   ]
  },
  {
   "cell_type": "code",
   "execution_count": 15,
   "metadata": {},
   "outputs": [
    {
     "data": {
      "text/plain": [
       "{'Acollective',\n",
       " 'Adrián Berra',\n",
       " 'Almendra',\n",
       " 'Alvy, Nacho Y Rubin',\n",
       " 'Ana Prada',\n",
       " 'Anderson .Paak',\n",
       " 'Animals As Leaders',\n",
       " 'Arcade Fire',\n",
       " 'Arctic Monkeys',\n",
       " 'Asaf Avidan',\n",
       " 'Atoms For Peace',\n",
       " 'BROCKHAMPTON',\n",
       " 'Babasónicos',\n",
       " 'Banda do Mar',\n",
       " 'Barney Kessel',\n",
       " 'Beirut',\n",
       " 'Bersuit Vergarabat',\n",
       " 'Bill Frisell',\n",
       " 'Bob Dylan',\n",
       " 'Bon Iver',\n",
       " 'Bonobo',\n",
       " 'Bourbon Sweethearts',\n",
       " 'Bruno Mars',\n",
       " 'Bulgara',\n",
       " 'Café Tacvba',\n",
       " 'Carlos Gardel',\n",
       " 'Catupecu Machu',\n",
       " 'Chance the Rapper',\n",
       " 'Charly García',\n",
       " 'Chris Cornell',\n",
       " 'Coldplay',\n",
       " 'David Bowie',\n",
       " 'Death Cab for Cutie',\n",
       " 'Diego Boneta',\n",
       " 'Divididos',\n",
       " 'Dream Theater',\n",
       " 'Duke Ellington',\n",
       " 'Ed Sheeran',\n",
       " 'Edmundo Rivero',\n",
       " 'El Kuelgue',\n",
       " 'Ella Fitzgerald',\n",
       " 'Elliott Smith',\n",
       " 'Esperanza Spalding',\n",
       " 'Father John Misty',\n",
       " 'Fleet Foxes',\n",
       " 'Frank Ocean',\n",
       " 'George Ezra',\n",
       " 'Gilad Hekselman',\n",
       " 'Glass Animals',\n",
       " 'Gorillaz',\n",
       " 'Green Day',\n",
       " 'Gustavo Cerati',\n",
       " 'Hinds',\n",
       " 'Illya Kuryaki & The Valderramas',\n",
       " 'Izan Llunas',\n",
       " 'Jack Johnson',\n",
       " 'Jack White',\n",
       " 'Jakob Bro',\n",
       " 'Jamie xx',\n",
       " 'Jamiroquai',\n",
       " 'Jane Bordeaux',\n",
       " 'John Frusciante',\n",
       " 'John Mayer',\n",
       " 'John Scofield',\n",
       " 'Jorge Drexler',\n",
       " 'Juaco Canteli',\n",
       " 'Julian Lage',\n",
       " 'Julian Lage & Chris Eldridge',\n",
       " 'Jungle',\n",
       " 'Justin Timberlake',\n",
       " 'Kanye West',\n",
       " 'Kendrick Lamar',\n",
       " 'Kenny Burrell',\n",
       " 'Kevin Johansen',\n",
       " 'Kings of Leon',\n",
       " 'La Familia de Ukeleles',\n",
       " 'Las Sombras',\n",
       " 'Led Zeppelin',\n",
       " 'Lester Young',\n",
       " 'Lisandro Aristimuño',\n",
       " 'Little Dragon',\n",
       " 'Little Joy',\n",
       " 'Lorde',\n",
       " 'Louis Cole',\n",
       " 'Luciano Supervielle',\n",
       " 'Lucy Dacus',\n",
       " 'Luis Alberto Spinetta',\n",
       " 'Luis Miguel',\n",
       " 'Mac DeMarco',\n",
       " 'Mac Miller',\n",
       " 'Mariano Otero',\n",
       " 'Marilina Bertoldi',\n",
       " 'Martin Oliver',\n",
       " 'Masego',\n",
       " 'Metronomy',\n",
       " 'Mi Amigo Invencible',\n",
       " 'Miles Davis',\n",
       " 'Moby',\n",
       " 'Mumford & Sons',\n",
       " 'Muse',\n",
       " 'Natalia Lafourcade',\n",
       " 'Natiruts',\n",
       " 'Nitzan Bar',\n",
       " 'Onda Vaga',\n",
       " 'Parquet Courts',\n",
       " 'Paul McCartney',\n",
       " 'Pearl Jam',\n",
       " 'Pedro Aznar',\n",
       " 'Pescado Rabioso',\n",
       " 'Phoenix',\n",
       " 'Pipi Piazzolla Trio',\n",
       " 'Punch Brothers',\n",
       " 'Queen',\n",
       " 'Queens of the Stone Age',\n",
       " 'Radiohead',\n",
       " 'Ramones',\n",
       " 'Red Hot Chili Peppers',\n",
       " 'Robert Glasper Experiment',\n",
       " 'Rubin',\n",
       " 'Sandman Project',\n",
       " 'Selton',\n",
       " 'Serú Girán',\n",
       " 'Seu Jorge',\n",
       " 'Snarky Puppy',\n",
       " 'Soda Stereo',\n",
       " 'Sol Marianela',\n",
       " 'Sonic Youth',\n",
       " 'Spinetta Y Los Socios Del Desierto',\n",
       " 'St. Vincent',\n",
       " 'Sufjan Stevens',\n",
       " 'TATRAN',\n",
       " 'Tash Sultana',\n",
       " 'The 1975',\n",
       " 'The Beach Boys',\n",
       " 'The Beatles',\n",
       " 'The Cure',\n",
       " 'The Flaming Lips',\n",
       " 'The Rolling Stones',\n",
       " 'The Strokes',\n",
       " 'The War On Drugs',\n",
       " 'The White Stripes',\n",
       " 'The Winery Dogs',\n",
       " 'The xx',\n",
       " 'Thom Yorke',\n",
       " 'Tom The Lion',\n",
       " 'Tomás Amante',\n",
       " 'Trombone de Frutas',\n",
       " 'Twenty One Pilots',\n",
       " 'Vampire Weekend',\n",
       " 'Vulfpeck',\n",
       " 'Walter Malosetti',\n",
       " 'alt-J',\n",
       " 'theAngelcy'}"
      ]
     },
     "execution_count": 15,
     "metadata": {},
     "output_type": "execute_result"
    }
   ],
   "source": [
    "ranges = ['short_term', 'medium_term', 'long_term']\n",
    "top_artists = set()\n",
    "for a_range in ranges:\n",
    "    results = sp.current_user_top_artists(time_range=a_range, limit=50)\n",
    "    for item in results['items']:\n",
    "        top_artists.add(item['name'])\n",
    "    results = sp.current_user_top_artists(time_range=a_range, limit=50, offset=49)\n",
    "    for item in results['items']:\n",
    "        top_artists.add(item['name'])\n",
    "top_artists"
   ]
  },
  {
   "cell_type": "code",
   "execution_count": 16,
   "metadata": {},
   "outputs": [
    {
     "name": "stdout",
     "output_type": "stream",
     "text": [
      "Song n# 74 of the year\n",
      "Whitney\n",
      "Played on 01 Jan 2018, 16:04\n"
     ]
    }
   ],
   "source": [
    "reverse_df = df.iloc[::-1]\n",
    "for i, row in reverse_df.iterrows():\n",
    "    if row['artist'] not in top_artists:\n",
    "        print(\"Song n# %d of the year\" % (len(df) - i))\n",
    "        print(row['artist'])\n",
    "        print(\"Played on %s\" % str(row['date']))\n",
    "        break"
   ]
  },
  {
   "cell_type": "code",
   "execution_count": 17,
   "metadata": {},
   "outputs": [
    {
     "data": {
      "text/html": [
       "<div>\n",
       "<style>\n",
       "    .dataframe thead tr:only-child th {\n",
       "        text-align: right;\n",
       "    }\n",
       "\n",
       "    .dataframe thead th {\n",
       "        text-align: left;\n",
       "    }\n",
       "\n",
       "    .dataframe tbody tr th {\n",
       "        vertical-align: top;\n",
       "    }\n",
       "</style>\n",
       "<table border=\"1\" class=\"dataframe\">\n",
       "  <thead>\n",
       "    <tr style=\"text-align: right;\">\n",
       "      <th></th>\n",
       "      <th>artist</th>\n",
       "      <th>title</th>\n",
       "      <th>album</th>\n",
       "      <th>duration</th>\n",
       "      <th>listener_count</th>\n",
       "      <th>mbid</th>\n",
       "      <th>playcount</th>\n",
       "      <th>url</th>\n",
       "      <th>info</th>\n",
       "      <th>date</th>\n",
       "      <th>timestamp</th>\n",
       "      <th>track</th>\n",
       "    </tr>\n",
       "  </thead>\n",
       "  <tbody>\n",
       "  </tbody>\n",
       "</table>\n",
       "</div>"
      ],
      "text/plain": [
       "Empty DataFrame\n",
       "Columns: [artist, title, album, duration, listener_count, mbid, playcount, url, info, date, timestamp, track]\n",
       "Index: []"
      ]
     },
     "execution_count": 17,
     "metadata": {},
     "output_type": "execute_result"
    }
   ],
   "source": [
    "df[df['artist'] == 'Faces']"
   ]
  },
  {
   "cell_type": "markdown",
   "metadata": {},
   "source": [
    "Last.fm doesn't register one scrobble to my name for Faces."
   ]
  },
  {
   "cell_type": "code",
   "execution_count": 18,
   "metadata": {},
   "outputs": [
    {
     "name": "stdout",
     "output_type": "stream",
     "text": [
      "As a baseline, Radiohead has 1172 scrobbles.\n"
     ]
    }
   ],
   "source": [
    "artist = pylast.Artist(\"Radiohead\", network, username='alexing10')\n",
    "print(\"As a baseline, Radiohead has %d scrobbles.\" % artist.get_userplaycount())"
   ]
  },
  {
   "cell_type": "code",
   "execution_count": 19,
   "metadata": {},
   "outputs": [
    {
     "name": "stdout",
     "output_type": "stream",
     "text": [
      "Faces has 0 scrobbles.\n"
     ]
    }
   ],
   "source": [
    "artist = pylast.Artist(\"Faces\", network, username='alexing10')\n",
    "print(\"Faces has %d scrobbles.\" % artist.get_userplaycount())"
   ]
  },
  {
   "cell_type": "code",
   "execution_count": 20,
   "metadata": {},
   "outputs": [
    {
     "name": "stdout",
     "output_type": "stream",
     "text": [
      "Whitney has 13 scrobbles and 12 plays this year\n"
     ]
    }
   ],
   "source": [
    "artist = pylast.Artist(\"Whitney\", network, username='alexing10')\n",
    "print(\"Whitney has %d scrobbles and %d plays this year\" % (artist.get_userplaycount(),len(df[df['artist'] == 'Whitney'])))"
   ]
  },
  {
   "cell_type": "markdown",
   "metadata": {},
   "source": [
    "#### __Faces was never reproduced. First discovery is Whitney.__"
   ]
  },
  {
   "cell_type": "markdown",
   "metadata": {},
   "source": [
    "### 3) \"Listened to 58776 minutes.\" <font color='green'></font>  <font color='red'>FALSE</font>"
   ]
  },
  {
   "cell_type": "code",
   "execution_count": 21,
   "metadata": {},
   "outputs": [
    {
     "data": {
      "text/plain": [
       "60572.71953333333"
      ]
     },
     "execution_count": 21,
     "metadata": {},
     "output_type": "execute_result"
    }
   ],
   "source": [
    "df.duration.astype('int').sum() / 1000 / 60"
   ]
  },
  {
   "cell_type": "markdown",
   "metadata": {},
   "source": [
    "We have some lead with the tracks regarding date"
   ]
  },
  {
   "cell_type": "code",
   "execution_count": 22,
   "metadata": {},
   "outputs": [
    {
     "data": {
      "text/plain": [
       "59057.221783333334"
      ]
     },
     "execution_count": 22,
     "metadata": {},
     "output_type": "execute_result"
    }
   ],
   "source": [
    "minutes_total_to_december = df[399:].duration.astype('int').sum() / 1000 / 60\n",
    "minutes_total_to_december"
   ]
  },
  {
   "cell_type": "code",
   "execution_count": 26,
   "metadata": {},
   "outputs": [
    {
     "name": "stdout",
     "output_type": "stream",
     "text": [
      "There's a difference of 281 minutes and 13 seconds\n",
      "By mean duration of songs listened to this year, there's and error of 69 songs\n"
     ]
    }
   ],
   "source": [
    "dif = np.abs(58776 - minutes_total_to_december)\n",
    "minutes, seconds = divmod(dif * 60 , 60)\n",
    "print(\"There's a difference of %d minutes and %d seconds\" % (minutes, seconds))\n",
    "amount_of_songs = int(np.round(dif * 60 * 1000 / mean))\n",
    "print(\"By mean duration of songs listened to this year, there's and error of %d songs\" % amount_of_songs)"
   ]
  },
  {
   "cell_type": "markdown",
   "metadata": {},
   "source": [
    "### 4) \"You spent 41 hours with your favorite artist Jorge Drexler, and the pleasure was all theirs.\" <font color='green'></font>  <font color='red'>FALSE</font>"
   ]
  },
  {
   "cell_type": "code",
   "execution_count": 27,
   "metadata": {},
   "outputs": [
    {
     "data": {
      "text/plain": [
       "artist\n",
       "Jorge Drexler      42.335542\n",
       "Serú Girán         33.730778\n",
       "Radiohead          33.452604\n",
       "Arctic Monkeys     26.142524\n",
       "Gustavo Cerati     19.803698\n",
       "Charly García      19.138179\n",
       "Vampire Weekend    18.478611\n",
       "Sufjan Stevens     17.274734\n",
       "Soda Stereo        16.740329\n",
       "Anderson .Paak     15.226572\n",
       "Name: duration, dtype: float64"
      ]
     },
     "execution_count": 27,
     "metadata": {},
     "output_type": "execute_result"
    }
   ],
   "source": [
    "top_listened = df[399:].groupby(by=['artist']).agg('sum')['duration'].sort_values(ascending=False)[:10]\n",
    "top_listened = top_listened / 1000 / 60 / 60 # ms / s / m -> h\n",
    "top_listened"
   ]
  },
  {
   "cell_type": "code",
   "execution_count": 28,
   "metadata": {},
   "outputs": [
    {
     "name": "stdout",
     "output_type": "stream",
     "text": [
      "The real time is 42 hours and 20 minutes\n"
     ]
    }
   ],
   "source": [
    "hours, minutes = divmod(top_listened[0] * 60, 60)\n",
    "print(\"The real time is %d hours and %d minutes\" % (int(hours), int(minutes)))"
   ]
  },
  {
   "cell_type": "code",
   "execution_count": null,
   "metadata": {},
   "outputs": [],
   "source": []
  }
 ],
 "metadata": {
  "kernelspec": {
   "display_name": "Python 3",
   "language": "python",
   "name": "python3"
  }
 },
 "nbformat": 4,
 "nbformat_minor": 2
}
