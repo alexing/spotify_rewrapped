{
 "cells": [
  {
   "cell_type": "markdown",
   "metadata": {},
   "source": [
    "- n of unique songs\n",
    "- first song and first discovered artist\n",
    "- minutes\n",
    "- n1 artist w/amount of hours\n",
    "- top artists, top songs, top genres\n",
    "- top 100\n",
    "- subgenre\n",
    "- oldest song"
   ]
  },
  {
   "cell_type": "code",
   "execution_count": 1,
   "metadata": {},
   "outputs": [],
   "source": [
    "import pandas as pd\n",
    "import pylast\n",
    "import time\n",
    "import datetime\n",
    "import re\n",
    "from IPython.display import clear_output\n"
   ]
  },
  {
   "cell_type": "code",
   "execution_count": 2,
   "metadata": {},
   "outputs": [],
   "source": [
    "from config import LASTFM_API_KEY, LASTFM_SHARED_SECRET, LASTFM_PASSWORD"
   ]
  },
  {
   "cell_type": "code",
   "execution_count": 3,
   "metadata": {},
   "outputs": [],
   "source": [
    "# In order to perform a write operation you need to authenticate yourself\n",
    "username = \"alexing10\"\n",
    "password_hash = pylast.md5(LASTFM_PASSWORD)\n",
    "\n",
    "network = pylast.LastFMNetwork(api_key=LASTFM_API_KEY, api_secret=LASTFM_SHARED_SECRET,\n",
    "                               username=username, password_hash=password_hash)\n",
    "user = network.get_authenticated_user()"
   ]
  },
  {
   "cell_type": "code",
   "execution_count": 4,
   "metadata": {},
   "outputs": [],
   "source": [
    "d = datetime.date(2018,1,1)\n",
    "\n",
    "unixtime = time.mktime(d.timetuple())\n",
    "tracks = user.get_recent_tracks(limit=None, time_from=unixtime)"
   ]
  },
  {
   "cell_type": "code",
   "execution_count": 5,
   "metadata": {},
   "outputs": [
    {
     "name": "stdout",
     "output_type": "stream",
     "text": [
      "<class 'pylast.PlayedTrack'> 14812\n"
     ]
    }
   ],
   "source": [
    "first_elem = tracks[0]\n",
    "print(type(first_elem), len(tracks))"
   ]
  },
  {
   "cell_type": "code",
   "execution_count": 6,
   "metadata": {},
   "outputs": [
    {
     "name": "stdout",
     "output_type": "stream",
     "text": [
      ".artist:  Marilina Bertoldi\n",
      ".get_album():  Prender un Fuego\n",
      ".get_duration():  188000\n",
      ".get_listener_count():  227\n",
      ".get_mbid():  None\n",
      ".get_playcount():  1351\n",
      ".get_url():  https://www.last.fm/music/marilina%2bbertoldi/_/nunca\n",
      ".info:  {}\n",
      ".title:  Nunca\n"
     ]
    }
   ],
   "source": [
    "def print_track(a_track):\n",
    "    print(\".artist: \", a_track.track.artist)\n",
    "    album = str(a_track.track.get_album())\n",
    "    if not album:\n",
    "        album = ''\n",
    "    print(\".get_album(): \", re.sub(r\"^[^-]*- \", \"\", album))\n",
    "    print(\".get_duration(): \",a_track.track.get_duration())\n",
    "    print(\".get_listener_count(): \",a_track.track.get_listener_count())\n",
    "    print(\".get_mbid(): \",a_track.track.get_mbid())\n",
    "    print(\".get_playcount(): \",a_track.track.get_playcount())\n",
    "    print(\".get_url(): \",a_track.track.get_url())\n",
    "    print(\".info: \",a_track.track.info)\n",
    "    print(\".title: \",a_track.track.title)\n",
    "\n",
    "print_track(first_elem)"
   ]
  },
  {
   "cell_type": "code",
   "execution_count": 7,
   "metadata": {},
   "outputs": [
    {
     "name": "stdout",
     "output_type": "stream",
     "text": [
      ".artist:  Riff\n",
      ".get_album():  None\n",
      ".get_duration():  0\n",
      ".get_listener_count():  31\n",
      ".get_mbid():  None\n",
      ".get_playcount():  46\n",
      ".get_url():  https://www.last.fm/music/riff/_/sube%2ba%2bmi%2bvoiture%2b-%2ben%2bvivo\n",
      ".info:  {}\n",
      ".title:  Sube a Mi Voiture - En Vivo\n"
     ]
    }
   ],
   "source": [
    "print_track(tracks[568])"
   ]
  },
  {
   "cell_type": "code",
   "execution_count": 17,
   "metadata": {},
   "outputs": [],
   "source": [
    "def get_data(a_track):\n",
    "    data = []\n",
    "    data.append(str(a_track.track.artist))\n",
    "    data.append(a_track.track.title)\n",
    "    try:\n",
    "        album = str(a_track.track.get_album())\n",
    "        if not album:\n",
    "            album = ''\n",
    "    except:\n",
    "        album = ''\n",
    "    data.append(re.sub(r\"^[^-]*- \", \"\", album))\n",
    "    try:\n",
    "        duration = a_track.track.get_duration()\n",
    "    except:\n",
    "        duration = ''\n",
    "    data.append(duration)\n",
    "    try:\n",
    "        listener_count = a_track.track.get_listener_count()\n",
    "    except:\n",
    "        listener_count = ''\n",
    "    data.append(listener_count)\n",
    "    try:\n",
    "        mbid = a_track.track.get_mbid()\n",
    "    except:\n",
    "        mbid = ''\n",
    "    data.append(mbid)\n",
    "    try:\n",
    "        playcount = a_track.track.get_playcount()\n",
    "    except:\n",
    "        playcount = ''\n",
    "    data.append(playcount)\n",
    "    try:\n",
    "        url = a_track.track.get_url()\n",
    "    except:\n",
    "        url = ''\n",
    "    data.append(url)\n",
    "    data.append(a_track.track.info)\n",
    "    data.append(a_track.playback_date)\n",
    "    data.append(a_track.timestamp)\n",
    "    return data"
   ]
  },
  {
   "cell_type": "code",
   "execution_count": 18,
   "metadata": {},
   "outputs": [
    {
     "name": "stdout",
     "output_type": "stream",
     "text": [
      "Got data from 14812/14812 tracks\n"
     ]
    }
   ],
   "source": [
    "data = {}\n",
    "amount_of_tracks = len(tracks)\n",
    "for i, a_track in enumerate(tracks):\n",
    "    data[i] = get_data(a_track)\n",
    "    print(\"Got data from %d/%d tracks\" % (i+1, amount_of_tracks))\n",
    "    clear_output(wait=True)"
   ]
  },
  {
   "cell_type": "code",
   "execution_count": 19,
   "metadata": {},
   "outputs": [
    {
     "data": {
      "text/html": [
       "<div>\n",
       "<style>\n",
       "    .dataframe thead tr:only-child th {\n",
       "        text-align: right;\n",
       "    }\n",
       "\n",
       "    .dataframe thead th {\n",
       "        text-align: left;\n",
       "    }\n",
       "\n",
       "    .dataframe tbody tr th {\n",
       "        vertical-align: top;\n",
       "    }\n",
       "</style>\n",
       "<table border=\"1\" class=\"dataframe\">\n",
       "  <thead>\n",
       "    <tr style=\"text-align: right;\">\n",
       "      <th></th>\n",
       "      <th>artist</th>\n",
       "      <th>title</th>\n",
       "      <th>album</th>\n",
       "      <th>duration</th>\n",
       "      <th>listener_count</th>\n",
       "      <th>mbid</th>\n",
       "      <th>playcount</th>\n",
       "      <th>url</th>\n",
       "      <th>info</th>\n",
       "      <th>date</th>\n",
       "      <th>timestamp</th>\n",
       "    </tr>\n",
       "  </thead>\n",
       "  <tbody>\n",
       "    <tr>\n",
       "      <th>0</th>\n",
       "      <td>Marilina Bertoldi</td>\n",
       "      <td>Nunca</td>\n",
       "      <td>Prender un Fuego</td>\n",
       "      <td>188000</td>\n",
       "      <td>228</td>\n",
       "      <td>None</td>\n",
       "      <td>1366</td>\n",
       "      <td>https://www.last.fm/music/marilina%2bbertoldi/...</td>\n",
       "      <td>{}</td>\n",
       "      <td>08 Dec 2018, 19:43</td>\n",
       "      <td>1544298210</td>\n",
       "    </tr>\n",
       "    <tr>\n",
       "      <th>1</th>\n",
       "      <td>Marilina Bertoldi</td>\n",
       "      <td>La Casa de A</td>\n",
       "      <td>None</td>\n",
       "      <td>0</td>\n",
       "      <td>243</td>\n",
       "      <td>None</td>\n",
       "      <td>1688</td>\n",
       "      <td>https://www.last.fm/music/marilina%2bbertoldi/...</td>\n",
       "      <td>{}</td>\n",
       "      <td>08 Dec 2018, 19:40</td>\n",
       "      <td>1544298014</td>\n",
       "    </tr>\n",
       "    <tr>\n",
       "      <th>2</th>\n",
       "      <td>Marilina Bertoldi</td>\n",
       "      <td>Fumar de día</td>\n",
       "      <td>Prender un Fuego</td>\n",
       "      <td>178000</td>\n",
       "      <td>350</td>\n",
       "      <td>None</td>\n",
       "      <td>2149</td>\n",
       "      <td>https://www.last.fm/music/marilina%2bbertoldi/...</td>\n",
       "      <td>{}</td>\n",
       "      <td>08 Dec 2018, 19:37</td>\n",
       "      <td>1544297834</td>\n",
       "    </tr>\n",
       "    <tr>\n",
       "      <th>3</th>\n",
       "      <td>Marilina Bertoldi</td>\n",
       "      <td>O No?</td>\n",
       "      <td>Prender un Fuego</td>\n",
       "      <td>181000</td>\n",
       "      <td>242</td>\n",
       "      <td>None</td>\n",
       "      <td>1343</td>\n",
       "      <td>https://www.last.fm/music/marilina%2bbertoldi/...</td>\n",
       "      <td>{}</td>\n",
       "      <td>08 Dec 2018, 19:34</td>\n",
       "      <td>1544297653</td>\n",
       "    </tr>\n",
       "    <tr>\n",
       "      <th>4</th>\n",
       "      <td>The 1975</td>\n",
       "      <td>Inside Your Mind</td>\n",
       "      <td>ネット上の人間関係についての簡単な調査 [Explicit]</td>\n",
       "      <td>230000</td>\n",
       "      <td>20179</td>\n",
       "      <td>None</td>\n",
       "      <td>63956</td>\n",
       "      <td>https://www.last.fm/music/the%2b1975/_/inside%...</td>\n",
       "      <td>{}</td>\n",
       "      <td>08 Dec 2018, 18:59</td>\n",
       "      <td>1544295551</td>\n",
       "    </tr>\n",
       "  </tbody>\n",
       "</table>\n",
       "</div>"
      ],
      "text/plain": [
       "              artist             title                           album  \\\n",
       "0  Marilina Bertoldi             Nunca                Prender un Fuego   \n",
       "1  Marilina Bertoldi      La Casa de A                            None   \n",
       "2  Marilina Bertoldi      Fumar de día                Prender un Fuego   \n",
       "3  Marilina Bertoldi             O No?                Prender un Fuego   \n",
       "4           The 1975  Inside Your Mind  ネット上の人間関係についての簡単な調査 [Explicit]   \n",
       "\n",
       "  duration listener_count  mbid playcount  \\\n",
       "0   188000            228  None      1366   \n",
       "1        0            243  None      1688   \n",
       "2   178000            350  None      2149   \n",
       "3   181000            242  None      1343   \n",
       "4   230000          20179  None     63956   \n",
       "\n",
       "                                                 url info                date  \\\n",
       "0  https://www.last.fm/music/marilina%2bbertoldi/...   {}  08 Dec 2018, 19:43   \n",
       "1  https://www.last.fm/music/marilina%2bbertoldi/...   {}  08 Dec 2018, 19:40   \n",
       "2  https://www.last.fm/music/marilina%2bbertoldi/...   {}  08 Dec 2018, 19:37   \n",
       "3  https://www.last.fm/music/marilina%2bbertoldi/...   {}  08 Dec 2018, 19:34   \n",
       "4  https://www.last.fm/music/the%2b1975/_/inside%...   {}  08 Dec 2018, 18:59   \n",
       "\n",
       "    timestamp  \n",
       "0  1544298210  \n",
       "1  1544298014  \n",
       "2  1544297834  \n",
       "3  1544297653  \n",
       "4  1544295551  "
      ]
     },
     "execution_count": 19,
     "metadata": {},
     "output_type": "execute_result"
    }
   ],
   "source": [
    "df = pd.DataFrame.from_dict(data, orient='index')\n",
    "df.columns=['artist', 'title', 'album', 'duration', 'listener_count', 'mbid', 'playcount', 'url', 'info', 'date', 'timestamp']\n",
    "df.head()"
   ]
  },
  {
   "cell_type": "code",
   "execution_count": 20,
   "metadata": {},
   "outputs": [],
   "source": [
    "df.to_csv(\"data/data.csv\")"
   ]
  },
  {
   "cell_type": "code",
   "execution_count": 16,
   "metadata": {},
   "outputs": [
    {
     "data": {
      "text/plain": [
       "'1514804801'"
      ]
     },
     "execution_count": 16,
     "metadata": {},
     "output_type": "execute_result"
    }
   ],
   "source": [
    "a_track.timestamp"
   ]
  },
  {
   "cell_type": "code",
   "execution_count": null,
   "metadata": {},
   "outputs": [],
   "source": []
  },
  {
   "cell_type": "code",
   "execution_count": 13,
   "metadata": {},
   "outputs": [
    {
     "data": {
      "text/plain": [
       "PlayedTrack(track=pylast.Track('Marilina Bertoldi', 'Nunca', pylast.LastFMNetwork('3217e9e74b50899da477a2e708fbc0af', '7db53e77e3ffe3d7d3026a7dc9d3bf5c', 'F5F0EdDg_-w-IhJclnFrw4DfKuYYXB5q', 'alexing10', '17d2814699b2796ff68bb1b8a4c43edd')), album='Prender un Fuego', playback_date='08 Dec 2018, 19:43', timestamp='1544298210')"
      ]
     },
     "execution_count": 13,
     "metadata": {},
     "output_type": "execute_result"
    }
   ],
   "source": [
    "tracks[0]"
   ]
  },
  {
   "cell_type": "code",
   "execution_count": null,
   "metadata": {},
   "outputs": [],
   "source": []
  }
 ],
 "metadata": {
  "kernelspec": {
   "display_name": "Python 3",
   "language": "python",
   "name": "python3"
  },
  "language_info": {
   "codemirror_mode": {
    "name": "ipython",
    "version": 3
   },
   "file_extension": ".py",
   "mimetype": "text/x-python",
   "name": "python",
   "nbconvert_exporter": "python",
   "pygments_lexer": "ipython3",
   "version": "3.6.6"
  }
 },
 "nbformat": 4,
 "nbformat_minor": 2
}
